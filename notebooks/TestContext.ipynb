{
 "cells": [
  {
   "cell_type": "code",
   "execution_count": 1,
   "metadata": {},
   "outputs": [],
   "source": [
    "from hydra.communication.grpc.client import GRPCClient\n",
    "from hydra.context import Context\n",
    "from hydra.context import setup_context"
   ]
  },
  {
   "cell_type": "code",
   "execution_count": 2,
   "metadata": {},
   "outputs": [],
   "source": [
    "client_1 = GRPCClient(\"localhost\", \"50051\")\n",
    "client_2 = GRPCClient(\"localhost\", \"50052\")"
   ]
  },
  {
   "cell_type": "code",
   "execution_count": 3,
   "metadata": {},
   "outputs": [],
   "source": [
    "context = Context([client_1, client_2])"
   ]
  },
  {
   "cell_type": "code",
   "execution_count": 4,
   "metadata": {},
   "outputs": [
    {
     "name": "stderr",
     "output_type": "stream",
     "text": [
      "INFO:root:Sending request context {\n",
      "  clients {\n",
      "    grpc_client {\n",
      "      ip: \"localhost\"\n",
      "      port: \"50051\"\n",
      "    }\n",
      "  }\n",
      "  clients {\n",
      "    grpc_client {\n",
      "      ip: \"localhost\"\n",
      "      port: \"50052\"\n",
      "    }\n",
      "  }\n",
      "}\n",
      "\n",
      "INFO:root:Sending request context {\n",
      "  clients {\n",
      "    grpc_client {\n",
      "      ip: \"localhost\"\n",
      "      port: \"50051\"\n",
      "    }\n",
      "  }\n",
      "  clients {\n",
      "    grpc_client {\n",
      "      ip: \"localhost\"\n",
      "      port: \"50052\"\n",
      "    }\n",
      "  }\n",
      "  rank: 1\n",
      "}\n",
      "\n",
      "INFO:root:Sending SetupPRZSGenerators request \n",
      "INFO:root:Sending SetupPRZSGenerators request \n"
     ]
    }
   ],
   "source": [
    "setup_context(context)"
   ]
  },
  {
   "cell_type": "code",
   "execution_count": 5,
   "metadata": {},
   "outputs": [
    {
     "name": "stderr",
     "output_type": "stream",
     "text": [
      "INFO:root:Sending store request \n"
     ]
    },
    {
     "data": {
      "text/plain": [
       "[]"
      ]
     },
     "execution_count": 5,
     "metadata": {},
     "output_type": "execute_result"
    }
   ],
   "source": [
    "client_1.store(Tensor)"
   ]
  },
  {
   "cell_type": "code",
   "execution_count": null,
   "metadata": {},
   "outputs": [],
   "source": []
  }
 ],
 "metadata": {
  "kernelspec": {
   "display_name": "hydra",
   "language": "python",
   "name": "python3"
  },
  "language_info": {
   "codemirror_mode": {
    "name": "ipython",
    "version": 3
   },
   "file_extension": ".py",
   "mimetype": "text/x-python",
   "name": "python",
   "nbconvert_exporter": "python",
   "pygments_lexer": "ipython3",
   "version": "3.10.0"
  },
  "orig_nbformat": 4,
  "vscode": {
   "interpreter": {
    "hash": "47fd4b649f25cef6d55e3a834cc3dcfd6e05e9154cbd226f9ff32a9ee14951d2"
   }
  }
 },
 "nbformat": 4,
 "nbformat_minor": 2
}
