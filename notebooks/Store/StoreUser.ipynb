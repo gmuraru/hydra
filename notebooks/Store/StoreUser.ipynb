{
 "cells": [
  {
   "attachments": {},
   "cell_type": "markdown",
   "metadata": {},
   "source": [
    "# Store\n",
    "### User View\n",
    "### Goals\n",
    "* How to start the server\n",
    "* How to communicate with the server through the client\n",
    "* Overview for the Store API"
   ]
  },
  {
   "attachments": {},
   "cell_type": "markdown",
   "metadata": {},
   "source": [
    "We will need to work with data and for this we need to have a mechanism to store and fetch information from a deployed server.\n",
    "\n",
    "Our interaction with the server will be done through a client.\n"
   ]
  },
  {
   "attachments": {},
   "cell_type": "markdown",
   "metadata": {},
   "source": [
    "### Code"
   ]
  },
  {
   "attachments": {},
   "cell_type": "markdown",
   "metadata": {},
   "source": [
    "#### Imports"
   ]
  },
  {
   "cell_type": "code",
   "execution_count": 8,
   "metadata": {},
   "outputs": [],
   "source": [
    "from hydra.communication import get_client\n",
    "from hydra.tensor import Tensor\n",
    "\n",
    "import logging\n",
    "import numpy as np\n",
    "\n",
    "logging.getLogger().setLevel(logging.ERROR)"
   ]
  },
  {
   "attachments": {},
   "cell_type": "markdown",
   "metadata": {},
   "source": [
    "#### Start the server and connect to it\n",
    "\n",
    "The first thing we need to do is to deploy the server on our own local machine.\n",
    "\n",
    "Usually, the server would stay on a different machine.\n",
    "\n",
    "For this, you need to run the `start_grpc_server.py` from the `hydra/notebooks` folder.\n",
    "\n",
    "The command used to run it: `python3 start_grpc_server.py --port <port>` (use a free port on your machine)\n",
    "\n",
    "Example: `python3 start_grpc_server.py --port 50051`"
   ]
  },
  {
   "cell_type": "code",
   "execution_count": 4,
   "metadata": {},
   "outputs": [],
   "source": [
    "client = get_client(\"localhost\", \"50051\")"
   ]
  },
  {
   "attachments": {},
   "cell_type": "markdown",
   "metadata": {},
   "source": [
    "### Generate some data"
   ]
  },
  {
   "cell_type": "code",
   "execution_count": 27,
   "metadata": {},
   "outputs": [
    {
     "name": "stdout",
     "output_type": "stream",
     "text": [
      "Unique id for tensor: a9bfef86-aa40-11ed-bff9-50e085b861ae\n"
     ]
    }
   ],
   "source": [
    "tensor = Tensor(np.array([1,2,3]))\n",
    "\n",
    "# We get back the unique identifier for the object in the server store\n",
    "id = client.store(tensor)\n",
    "print(f\"Unique id for tensor: {id}\")\n"
   ]
  },
  {
   "attachments": {},
   "cell_type": "markdown",
   "metadata": {},
   "source": [
    "We could also check the ids from the store using the store API\n"
   ]
  },
  {
   "cell_type": "code",
   "execution_count": 31,
   "metadata": {},
   "outputs": [
    {
     "name": "stdout",
     "output_type": "stream",
     "text": [
      "Tensors ids: a9bfef86-aa40-11ed-bff9-50e085b861ae\n"
     ]
    }
   ],
   "source": [
    "ids = client.store_view()\n",
    "print(\"Tensors ids:\", \"\\n\".join(map(str, (ids))))"
   ]
  },
  {
   "attachments": {},
   "cell_type": "markdown",
   "metadata": {},
   "source": [
    "Now let's try to fetch the data from the store.\n",
    "\n",
    "Notice that the `get` call will not delete the data from the store.\n"
   ]
  },
  {
   "cell_type": "code",
   "execution_count": 32,
   "metadata": {},
   "outputs": [
    {
     "name": "stdout",
     "output_type": "stream",
     "text": [
      "Retrieved value Tensor: [1 2 3]\n"
     ]
    }
   ],
   "source": [
    "value = client.get(id)\n",
    "\n",
    "print(f\"Retrieved value {value}\")"
   ]
  },
  {
   "cell_type": "code",
   "execution_count": null,
   "metadata": {},
   "outputs": [],
   "source": []
  }
 ],
 "metadata": {
  "kernelspec": {
   "display_name": "hydra",
   "language": "python",
   "name": "python3"
  },
  "language_info": {
   "codemirror_mode": {
    "name": "ipython",
    "version": 3
   },
   "file_extension": ".py",
   "mimetype": "text/x-python",
   "name": "python",
   "nbconvert_exporter": "python",
   "pygments_lexer": "ipython3",
   "version": "3.10.0"
  },
  "orig_nbformat": 4,
  "vscode": {
   "interpreter": {
    "hash": "47fd4b649f25cef6d55e3a834cc3dcfd6e05e9154cbd226f9ff32a9ee14951d2"
   }
  }
 },
 "nbformat": 4,
 "nbformat_minor": 2
}
